{
 "cells": [
  {
   "cell_type": "markdown",
   "metadata": {},
   "source": [
    "# App Design Based on Users' Interests"
   ]
  },
  {
   "cell_type": "raw",
   "metadata": {},
   "source": [
    "## Introduction \n",
    "This project aims to help companies in understanding the type, functionalities, architecture and content of the Apps which are more likely to attract users.\n",
    "By analyzing the characteristics and patterns of the most successful free Apps on Google Play and App Store, we are going to fund a theory about Users' behaviours when it comes to choose what Apps they use and on which they spend most of their time."
   ]
  },
  {
   "cell_type": "code",
   "execution_count": 1,
   "metadata": {},
   "outputs": [],
   "source": [
    "# dataset = [[]] start = int end = int, rows_and_columns = boolean with default=FALSE\n",
    "#slices the data, loops in each slice\n",
    "def explore_data(dataset, start, end, rows_and_columns=False):\n",
    "    dataset_slice = dataset[start:end]    \n",
    "    for row in dataset_slice:\n",
    "        print(row)\n",
    "        print('\\n') # adds a new (empty) line after each row\n",
    "\n",
    "    if rows_and_columns:\n",
    "        print('Number of rows:', len(dataset))\n",
    "        print('Number of columns:', len(dataset[0]))\n",
    "\n",
    "#returns the dataset after erasing all duplicated records with less reviews and a counter with nr. of dups\n",
    "def no_duplicates(dataset, indexAppName, indexReviews): \n",
    "        datasetNoDup = []\n",
    "        dic = {}\n",
    "        counter = 0\n",
    "        for row in dataset[:]:\n",
    "            reviews = row[indexReviews]\n",
    "            if row[indexAppName] not in dic:\n",
    "                dic[row[indexAppName]] = row #key is app name, value is the nr. of reviews\n",
    "            else:#save the version of the app wih more reviews to the list of no_duplicates\n",
    "                if reviews > dic[row[indexAppName]][indexReviews]:\n",
    "                    dic[row[indexAppName]] = row\n",
    "                counter += 1\n",
    "        datasetNoDup = list(dic.values())            \n",
    "        return datasetNoDup, counter\n",
    "#return false if argument string is no ASCII (>127)\n",
    "def is_ascii(string):\n",
    "    counterOther = 0\n",
    "    for c in string:\n",
    "        if ord(c) > 127:\n",
    "            counterOther += 1\n",
    "    if counterOther <= 3:\n",
    "            return True\n",
    "    return False\n",
    "#takes a list of strings (An App-row) and the index where each row contaings the app name\n",
    "#and returns a list containing only App-rows which are in English\n",
    "def clean_english(apps, indexAppName):\n",
    "    english_list = []\n",
    "    for app in apps:\n",
    "        if is_ascii(app[indexAppName]):\n",
    "            english_list.append(app)\n",
    "    return english_list\n",
    "#takes a list of apps (list of lists) and the index of their price and returns only the free ones\n",
    "def filter_free(apps, indexPrice):\n",
    "    list_paid = []\n",
    "    for app in apps:\n",
    "        price = app[indexPrice]\n",
    "        if price.isdigit():\n",
    "            if float(price) == 0: list_paid.append(app)\n",
    "        else:\n",
    "            if float(price[1:]) == 0: list_paid.append(app)\n",
    "    return list_paid"
   ]
  },
  {
   "cell_type": "code",
   "execution_count": 2,
   "metadata": {},
   "outputs": [
    {
     "name": "stdout",
     "output_type": "stream",
     "text": [
      "These are some tests for removing duplicaded entries\n",
      "\n"
     ]
    }
   ],
   "source": [
    "print('These are some tests for removing duplicaded entries\\n')\n",
    "#test check_for_duplicates for iOS\n",
    "dataset1 = [['12', '284815117', 'SCRABBLE Premium', '107547136', 'USD', '7.99',\n",
    "            '105776', '166', '3.5', '2.5', '5.19.0', '4+', 'Games', '37', '0', '6', '1'], \n",
    "           ['12', '284815117', 'SCRABBLE Premium', '227547136', 'USD', '7.99',\n",
    "            '105776', '166', '3.5', '2.5', '6.19.0', '4+', 'Games', '37', '0', '6', '1']]\n",
    "newDataset1, counter1 = no_duplicates(dataset1, 2, 3)\n",
    "assert newDataset1[0][10] == '6.19.0'\n",
    "assert len(newDataset1) == 1\n",
    "\n",
    "#test check_for_duplicates for Android\n",
    "dataset2 = [['Name Art Photo Editor - Focus n Filters', 'ART_AND_DESIGN', '4.4', '9524', '12M',\n",
    "            '1,000,000+', 'Free', '0', 'Everyone', 'Art & Design', 'July 31, 2018', '1.3.15', '4.0 and up'],\n",
    "            ['Name Art Photo Editor - Focus n Filters', 'ART_AND_DESIGN', '4.4', '8788', '12M',\n",
    "            '1,000,000+', 'Free', '0', 'Everyone', 'Art & Design', 'July 31, 2018', '1.3.0', '4.0 and up']]\n",
    "newDataset2, counter2 = no_duplicates(dataset2, 0, 3)\n",
    "assert newDataset2[0][11] == '1.3.15'\n",
    "#dataset1 = deleteDuplicates(dataset2, l4)#del dataset1[l2[0]]\n",
    "assert len(newDataset2) == 1\n",
    "#testing is_ascii\n",
    "engString = '艺Hello'\n",
    "otherStr = '欢乐颂2艺'\n",
    "assert is_ascii(engString) == True\n",
    "assert is_ascii(otherStr) == False"
   ]
  },
  {
   "cell_type": "code",
   "execution_count": 3,
   "metadata": {},
   "outputs": [
    {
     "name": "stdout",
     "output_type": "stream",
     "text": [
      "Columns: \n",
      "['', 'id', 'track_name', 'size_bytes', 'currency', 'price', 'rating_count_tot', 'rating_count_ver', 'user_rating', 'user_rating_ver', 'ver', 'cont_rating', 'prime_genre', 'sup_devices.num', 'ipadSc_urls.num', 'lang.num', 'vpp_lic']\n",
      "\n",
      "2 examples: \n",
      "\n",
      "['11', '284791396', 'Solitaire by MobilityWare', '49618944', 'USD', '4.99', '76720', '4017', '4.5', '4.5', '4.10.1', '4+', 'Games', '38', '4', '11', '1']\n",
      "\n",
      "\n",
      "['12', '284815117', 'SCRABBLE Premium', '227547136', 'USD', '7.99', '105776', '166', '3.5', '2.5', '5.19.0', '4+', 'Games', '37', '0', '6', '1']\n",
      "\n",
      "\n",
      "Number of rows: 7197\n",
      "Number of columns: 17\n",
      "\n",
      "Checking if there are duplicated rows...\n",
      "Number of duplicates found: 2\n",
      "Length of iOS list after erasing duplicates: 7195\n",
      "\n",
      "\n",
      "---------------------------------------------------------------------------------------------------------------------------------------------------------\n",
      "Columns: \n",
      "['App', 'Category', 'Rating', 'Reviews', 'Size', 'Installs', 'Type', 'Price', 'Content Rating', 'Genres', 'Last Updated', 'Current Ver', 'Android Ver']\n",
      "\n",
      "2 examples: \n",
      "\n",
      "['Text on Photo - Fonteee', 'ART_AND_DESIGN', '4.4', '13880', '28M', '1,000,000+', 'Free', '0', 'Everyone', 'Art & Design', 'October 27, 2017', '1.0.4', '4.1 and up']\n",
      "\n",
      "\n",
      "['Name Art Photo Editor - Focus n Filters', 'ART_AND_DESIGN', '4.4', '8788', '12M', '1,000,000+', 'Free', '0', 'Everyone', 'Art & Design', 'July 31, 2018', '1.0.15', '4.0 and up']\n",
      "\n",
      "\n",
      "Number of rows: 10841\n",
      "Number of columns: 13\n",
      "Number of duplicates found: 1181\n",
      "Length of Android list after erasing duplicates: 9659\n"
     ]
    }
   ],
   "source": [
    "from csv import reader\n",
    "\n",
    "ios = open('AppleStore.csv', encoding=\"utf8\")\n",
    "rdr = reader(ios)\n",
    "lt = list(rdr)\n",
    "ios_header = lt[0]\n",
    "ios = lt[1:]\n",
    "print('Columns: \\n' + str(ios_header) + '\\n')\n",
    "print('2 examples: \\n')\n",
    "explore_data(ios, 10, 12, True)\n",
    "print('\\nChecking if there are duplicated rows...')\n",
    "ios, counter2 = no_duplicates(ios, 2, 3)\n",
    "print('Number of duplicates found: ' + str(counter2))\n",
    "print('Length of iOS list after erasing duplicates: ' + str(len(ios)))\n",
    "print('\\n')\n",
    "print('--------------------------------------------------' +\n",
    "      '---------------------------------------------------' +\n",
    "      '----------------------------------------------------')\n",
    "android = open('googleplaystore.csv', encoding='utf8')\n",
    "rdr2 = reader(android)\n",
    "lt2= list(rdr2)\n",
    "android_header = lt2[0]\n",
    "android = lt2[1:]\n",
    "print('Columns: \\n' + str(android_header) + '\\n')\n",
    "print('2 examples: \\n')\n",
    "explore_data(android, 10, 12, True)\n",
    "#erase wrong entry\n",
    "del android[10472]\n",
    "android, counter1 = no_duplicates(android, 0, 3)\n",
    "print('Number of duplicates found: ' + str(counter1))\n",
    "print('Length of Android list after erasing duplicates: ' + str(len(android)))\n"
   ]
  },
  {
   "cell_type": "code",
   "execution_count": 4,
   "metadata": {},
   "outputs": [
    {
     "name": "stdout",
     "output_type": "stream",
     "text": [
      "Taking away apps that are not in English...\n",
      "\n",
      "Number of iOS apps before removing foreigner ones: 7195\n",
      "Number of iOS apps after removing foreigner ones: 6181\n",
      "\n",
      "\n",
      "Number of Android apps before removing foreigner ones: 9659\n",
      "Number of Android apps after removing foreigner ones: 9614\n"
     ]
    }
   ],
   "source": [
    "print('Taking away apps that are not in English...\\n')\n",
    "print('Number of iOS apps before removing foreigner ones: ' + str(len(ios)))\n",
    "ios = clean_english(ios, 2)\n",
    "print('Number of iOS apps after removing foreigner ones: ' + str(len(ios)))\n",
    "print('\\n')\n",
    "print('Number of Android apps before removing foreigner ones: ' + str(len(android)))\n",
    "android = clean_english(android, 0)\n",
    "print('Number of Android apps after removing foreigner ones: ' + str(len(android)))"
   ]
  },
  {
   "cell_type": "code",
   "execution_count": 7,
   "metadata": {},
   "outputs": [
    {
     "name": "stdout",
     "output_type": "stream",
     "text": [
      "Removing free Apps...\n",
      "\n",
      "Number of iOS apps before removing paid ones: 3220\n",
      "Number of iOS apps after removing paid ones: 3220\n",
      "\n",
      "\n",
      "Number of Android apps before removing paid ones: 8862\n",
      "Number of Android apps after removing paid ones: 8862\n"
     ]
    }
   ],
   "source": [
    "print('Removing free Apps...\\n')\n",
    "print('Number of iOS apps before removing paid ones: ' + str(len(ios)))\n",
    "ios = filter_free(ios, 5)\n",
    "print('Number of iOS apps after removing paid ones: ' + str(len(ios)))\n",
    "print('\\n')\n",
    "print('Number of Android apps before removing paid ones: ' + str(len(android)))\n",
    "android = filter_free(android, 7)\n",
    "print('Number of Android apps after removing paid ones: ' + str(len(android)))"
   ]
  },
  {
   "cell_type": "markdown",
   "metadata": {},
   "source": [
    "So far we have been cleaning the data, more specifically we:\n",
    "- Removed inaccurate data\n",
    "- Removed duplicate app entries\n",
    "- Removed non-English apps\n",
    "- Isolated the free apps\n",
    "\n",
    "Now we are going to analyze which types of apps are more suitable for both markets. For this, we need to identify which genres of apps are profitable in both markets at same time.\n",
    "\n",
    "The validation strategy for developing the app is as follows:\n",
    "- Build Android version and upload it to Google Play.\n",
    "- If users give positive feedback, develop it further.\n",
    "- If after 6 months the app is still profitable, build an iOS version and upload it to the App Store."
   ]
  },
  {
   "cell_type": "code",
   "execution_count": null,
   "metadata": {},
   "outputs": [],
   "source": []
  }
 ],
 "metadata": {
  "kernelspec": {
   "display_name": "Python 3",
   "language": "python",
   "name": "python3"
  },
  "language_info": {
   "codemirror_mode": {
    "name": "ipython",
    "version": 3
   },
   "file_extension": ".py",
   "mimetype": "text/x-python",
   "name": "python",
   "nbconvert_exporter": "python",
   "pygments_lexer": "ipython3",
   "version": "3.7.3"
  }
 },
 "nbformat": 4,
 "nbformat_minor": 2
}
